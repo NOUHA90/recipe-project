{
 "cells": [
  {
   "cell_type": "code",
   "execution_count": 1,
   "id": "3b72274f",
   "metadata": {
    "ExecuteTime": {
     "end_time": "2021-07-29T14:44:48.306394Z",
     "start_time": "2021-07-29T14:44:43.608095Z"
    }
   },
   "outputs": [],
   "source": [
    "import pandas as pd\n",
    "import numpy as np\n",
    "import seaborn as sns\n",
    "import matplotlib.pyplot as plt\n",
    "from recipebook.data import Data\n",
    "from recipebook.recipe import Recipe\n",
    "from recipebook.ingredient import Ingredient"
   ]
  },
  {
   "cell_type": "code",
   "execution_count": 2,
   "id": "44d71366",
   "metadata": {
    "ExecuteTime": {
     "end_time": "2021-07-29T14:44:48.337385Z",
     "start_time": "2021-07-29T14:44:48.316398Z"
    }
   },
   "outputs": [],
   "source": [
    "df = Data(\"..\\data\\csv\")"
   ]
  },
  {
   "cell_type": "code",
   "execution_count": 25,
   "id": "8977bf67",
   "metadata": {
    "ExecuteTime": {
     "end_time": "2021-07-29T15:12:05.430005Z",
     "start_time": "2021-07-29T15:12:05.329073Z"
    }
   },
   "outputs": [
    {
     "data": {
      "text/html": [
       "<div>\n",
       "<style scoped>\n",
       "    .dataframe tbody tr th:only-of-type {\n",
       "        vertical-align: middle;\n",
       "    }\n",
       "\n",
       "    .dataframe tbody tr th {\n",
       "        vertical-align: top;\n",
       "    }\n",
       "\n",
       "    .dataframe thead th {\n",
       "        text-align: right;\n",
       "    }\n",
       "</style>\n",
       "<table border=\"1\" class=\"dataframe\">\n",
       "  <thead>\n",
       "    <tr style=\"text-align: right;\">\n",
       "      <th></th>\n",
       "      <th>Id</th>\n",
       "      <th>Nom</th>\n",
       "      <th>Score</th>\n",
       "      <th>name</th>\n",
       "      <th>cooking_time</th>\n",
       "      <th>Nbr de personne</th>\n",
       "      <th>ingredient_id</th>\n",
       "      <th>recipe_id</th>\n",
       "      <th>Quantity</th>\n",
       "      <th>Unit</th>\n",
       "    </tr>\n",
       "  </thead>\n",
       "  <tbody>\n",
       "    <tr>\n",
       "      <th>0</th>\n",
       "      <td>1</td>\n",
       "      <td>Pattes</td>\n",
       "      <td>1.0</td>\n",
       "      <td>NaN</td>\n",
       "      <td>NaN</td>\n",
       "      <td>NaN</td>\n",
       "      <td>NaN</td>\n",
       "      <td>NaN</td>\n",
       "      <td>NaN</td>\n",
       "      <td>NaN</td>\n",
       "    </tr>\n",
       "    <tr>\n",
       "      <th>1</th>\n",
       "      <td>2</td>\n",
       "      <td>beuf</td>\n",
       "      <td>2.0</td>\n",
       "      <td>NaN</td>\n",
       "      <td>NaN</td>\n",
       "      <td>NaN</td>\n",
       "      <td>NaN</td>\n",
       "      <td>NaN</td>\n",
       "      <td>NaN</td>\n",
       "      <td>NaN</td>\n",
       "    </tr>\n",
       "    <tr>\n",
       "      <th>2</th>\n",
       "      <td>3</td>\n",
       "      <td>Tomate</td>\n",
       "      <td>3.0</td>\n",
       "      <td>NaN</td>\n",
       "      <td>NaN</td>\n",
       "      <td>NaN</td>\n",
       "      <td>NaN</td>\n",
       "      <td>NaN</td>\n",
       "      <td>NaN</td>\n",
       "      <td>NaN</td>\n",
       "    </tr>\n",
       "    <tr>\n",
       "      <th>3</th>\n",
       "      <td>4</td>\n",
       "      <td>Oignon</td>\n",
       "      <td>4.0</td>\n",
       "      <td>NaN</td>\n",
       "      <td>NaN</td>\n",
       "      <td>NaN</td>\n",
       "      <td>NaN</td>\n",
       "      <td>NaN</td>\n",
       "      <td>NaN</td>\n",
       "      <td>NaN</td>\n",
       "    </tr>\n",
       "    <tr>\n",
       "      <th>4</th>\n",
       "      <td>5</td>\n",
       "      <td>Champignon</td>\n",
       "      <td>5.0</td>\n",
       "      <td>NaN</td>\n",
       "      <td>NaN</td>\n",
       "      <td>NaN</td>\n",
       "      <td>NaN</td>\n",
       "      <td>NaN</td>\n",
       "      <td>NaN</td>\n",
       "      <td>NaN</td>\n",
       "    </tr>\n",
       "  </tbody>\n",
       "</table>\n",
       "</div>"
      ],
      "text/plain": [
       "   Id         Nom  Score name cooking_time  Nbr de personne  ingredient_id  \\\n",
       "0   1      Pattes    1.0  NaN          NaN              NaN            NaN   \n",
       "1   2        beuf    2.0  NaN          NaN              NaN            NaN   \n",
       "2   3      Tomate    3.0  NaN          NaN              NaN            NaN   \n",
       "3   4     Oignon     4.0  NaN          NaN              NaN            NaN   \n",
       "4   5  Champignon    5.0  NaN          NaN              NaN            NaN   \n",
       "\n",
       "   recipe_id  Quantity Unit  \n",
       "0        NaN       NaN  NaN  \n",
       "1        NaN       NaN  NaN  \n",
       "2        NaN       NaN  NaN  \n",
       "3        NaN       NaN  NaN  \n",
       "4        NaN       NaN  NaN  "
      ]
     },
     "execution_count": 25,
     "metadata": {},
     "output_type": "execute_result"
    }
   ],
   "source": [
    "import glob\n",
    "meteo_data = []\n",
    "for infile in glob.glob(\"..\\data\\csv\\*.csv\"):\n",
    "    data = pd.read_csv(infile, sep = ';')\n",
    "    # store DataFrame in list\n",
    "    meteo_data.append(data)\n",
    "# print(meteo_data)\n",
    "# see pd.concat documentation for more info\n",
    "meteo_data = pd.concat(meteo_data).dropna(axis='columns', how='all')\n",
    "meteo_data.head()"
   ]
  },
  {
   "cell_type": "code",
   "execution_count": 17,
   "id": "673d3ba7",
   "metadata": {
    "ExecuteTime": {
     "end_time": "2021-07-29T14:58:52.290877Z",
     "start_time": "2021-07-29T14:58:52.272913Z"
    }
   },
   "outputs": [],
   "source": [
    "def drop_missing_features(data):\n",
    "        return data[data.columns[data.isna().sum()/data.shape[0] <0.9]]"
   ]
  },
  {
   "cell_type": "code",
   "execution_count": 18,
   "id": "f8257ebe",
   "metadata": {
    "ExecuteTime": {
     "end_time": "2021-07-29T14:58:54.752909Z",
     "start_time": "2021-07-29T14:58:54.687952Z"
    }
   },
   "outputs": [
    {
     "data": {
      "text/html": [
       "<div>\n",
       "<style scoped>\n",
       "    .dataframe tbody tr th:only-of-type {\n",
       "        vertical-align: middle;\n",
       "    }\n",
       "\n",
       "    .dataframe tbody tr th {\n",
       "        vertical-align: top;\n",
       "    }\n",
       "\n",
       "    .dataframe thead th {\n",
       "        text-align: right;\n",
       "    }\n",
       "</style>\n",
       "<table border=\"1\" class=\"dataframe\">\n",
       "  <thead>\n",
       "    <tr style=\"text-align: right;\">\n",
       "      <th></th>\n",
       "      <th>Id</th>\n",
       "      <th>Nom</th>\n",
       "      <th>Score</th>\n",
       "      <th>ingredient_id</th>\n",
       "      <th>recipe_id</th>\n",
       "      <th>Quantity</th>\n",
       "      <th>Unit</th>\n",
       "    </tr>\n",
       "  </thead>\n",
       "  <tbody>\n",
       "    <tr>\n",
       "      <th>0</th>\n",
       "      <td>1</td>\n",
       "      <td>Pattes</td>\n",
       "      <td>1.0</td>\n",
       "      <td>NaN</td>\n",
       "      <td>NaN</td>\n",
       "      <td>NaN</td>\n",
       "      <td>NaN</td>\n",
       "    </tr>\n",
       "    <tr>\n",
       "      <th>1</th>\n",
       "      <td>2</td>\n",
       "      <td>beuf</td>\n",
       "      <td>2.0</td>\n",
       "      <td>NaN</td>\n",
       "      <td>NaN</td>\n",
       "      <td>NaN</td>\n",
       "      <td>NaN</td>\n",
       "    </tr>\n",
       "    <tr>\n",
       "      <th>2</th>\n",
       "      <td>3</td>\n",
       "      <td>Tomate</td>\n",
       "      <td>3.0</td>\n",
       "      <td>NaN</td>\n",
       "      <td>NaN</td>\n",
       "      <td>NaN</td>\n",
       "      <td>NaN</td>\n",
       "    </tr>\n",
       "    <tr>\n",
       "      <th>3</th>\n",
       "      <td>4</td>\n",
       "      <td>Oignon</td>\n",
       "      <td>4.0</td>\n",
       "      <td>NaN</td>\n",
       "      <td>NaN</td>\n",
       "      <td>NaN</td>\n",
       "      <td>NaN</td>\n",
       "    </tr>\n",
       "    <tr>\n",
       "      <th>4</th>\n",
       "      <td>5</td>\n",
       "      <td>Champignon</td>\n",
       "      <td>5.0</td>\n",
       "      <td>NaN</td>\n",
       "      <td>NaN</td>\n",
       "      <td>NaN</td>\n",
       "      <td>NaN</td>\n",
       "    </tr>\n",
       "  </tbody>\n",
       "</table>\n",
       "</div>"
      ],
      "text/plain": [
       "   Id         Nom  Score  ingredient_id  recipe_id  Quantity Unit\n",
       "0   1      Pattes    1.0            NaN        NaN       NaN  NaN\n",
       "1   2        beuf    2.0            NaN        NaN       NaN  NaN\n",
       "2   3      Tomate    3.0            NaN        NaN       NaN  NaN\n",
       "3   4     Oignon     4.0            NaN        NaN       NaN  NaN\n",
       "4   5  Champignon    5.0            NaN        NaN       NaN  NaN"
      ]
     },
     "execution_count": 18,
     "metadata": {},
     "output_type": "execute_result"
    }
   ],
   "source": [
    "meteo_data = drop_missing_features(meteo_data)\n",
    "meteo_data.head()"
   ]
  }
 ],
 "metadata": {
  "kernelspec": {
   "display_name": "Python 3",
   "language": "python",
   "name": "python3"
  },
  "language_info": {
   "codemirror_mode": {
    "name": "ipython",
    "version": 3
   },
   "file_extension": ".py",
   "mimetype": "text/x-python",
   "name": "python",
   "nbconvert_exporter": "python",
   "pygments_lexer": "ipython3",
   "version": "3.8.10"
  },
  "latex_envs": {
   "LaTeX_envs_menu_present": true,
   "autoclose": false,
   "autocomplete": true,
   "bibliofile": "biblio.bib",
   "cite_by": "apalike",
   "current_citInitial": 1,
   "eqLabelWithNumbers": true,
   "eqNumInitial": 1,
   "hotkeys": {
    "equation": "Ctrl-E",
    "itemize": "Ctrl-I"
   },
   "labels_anchors": false,
   "latex_user_defs": false,
   "report_style_numbering": false,
   "user_envs_cfg": false
  },
  "toc": {
   "base_numbering": 1,
   "nav_menu": {},
   "number_sections": true,
   "sideBar": true,
   "skip_h1_title": false,
   "title_cell": "Table of Contents",
   "title_sidebar": "Contents",
   "toc_cell": false,
   "toc_position": {},
   "toc_section_display": true,
   "toc_window_display": false
  }
 },
 "nbformat": 4,
 "nbformat_minor": 5
}
