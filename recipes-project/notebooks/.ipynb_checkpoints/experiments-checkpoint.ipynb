{
 "cells": [
  {
   "cell_type": "markdown",
   "id": "intelligent-yemen",
   "metadata": {},
   "source": [
    "# Recipe book"
   ]
  },
  {
   "cell_type": "markdown",
   "id": "governmental-acceptance",
   "metadata": {},
   "source": [
    "## Content"
   ]
  },
  {
   "cell_type": "markdown",
   "id": "fatal-interstate",
   "metadata": {},
   "source": [
    "Voici le recipe book!"
   ]
  },
  {
   "cell_type": "code",
   "execution_count": 1,
   "id": "double-multimedia",
   "metadata": {
    "ExecuteTime": {
     "end_time": "2021-07-29T09:12:19.597304Z",
     "start_time": "2021-07-29T09:12:17.576153Z"
    }
   },
   "outputs": [],
   "source": [
    "# Import usual modules\n",
    "import pandas as pd\n",
    "import numpy as np\n",
    "import seaborn as sns\n",
    "import matplotlib.pyplot as plt"
   ]
  },
  {
   "cell_type": "code",
   "execution_count": 2,
   "id": "active-comparison",
   "metadata": {
    "ExecuteTime": {
     "end_time": "2021-07-29T09:12:20.012012Z",
     "start_time": "2021-07-29T09:12:19.600256Z"
    }
   },
   "outputs": [
    {
     "ename": "ModuleNotFoundError",
     "evalue": "No module named 'recipebook'",
     "output_type": "error",
     "traceback": [
      "\u001b[1;31m---------------------------------------------------------------------------\u001b[0m",
      "\u001b[1;31mModuleNotFoundError\u001b[0m                       Traceback (most recent call last)",
      "\u001b[1;32m<ipython-input-2-e297ee6dfccc>\u001b[0m in \u001b[0;36m<module>\u001b[1;34m\u001b[0m\n\u001b[0;32m      1\u001b[0m \u001b[1;31m# Import recipebook data\u001b[0m\u001b[1;33m\u001b[0m\u001b[1;33m\u001b[0m\u001b[1;33m\u001b[0m\u001b[0m\n\u001b[1;32m----> 2\u001b[1;33m \u001b[1;32mfrom\u001b[0m \u001b[0mrecipebook\u001b[0m\u001b[1;33m.\u001b[0m\u001b[0mdata\u001b[0m \u001b[1;32mimport\u001b[0m \u001b[0mData\u001b[0m\u001b[1;33m\u001b[0m\u001b[1;33m\u001b[0m\u001b[0m\n\u001b[0m\u001b[0;32m      3\u001b[0m \u001b[1;32mfrom\u001b[0m \u001b[0mrecipebook\u001b[0m\u001b[1;33m.\u001b[0m\u001b[0mrecipe\u001b[0m \u001b[1;32mimport\u001b[0m \u001b[0mRecipe\u001b[0m\u001b[1;33m\u001b[0m\u001b[1;33m\u001b[0m\u001b[0m\n\u001b[0;32m      4\u001b[0m \u001b[1;32mfrom\u001b[0m \u001b[0mrecipebook\u001b[0m\u001b[1;33m.\u001b[0m\u001b[0mingredient\u001b[0m \u001b[1;32mimport\u001b[0m \u001b[0mIngredient\u001b[0m\u001b[1;33m\u001b[0m\u001b[1;33m\u001b[0m\u001b[0m\n",
      "\u001b[1;31mModuleNotFoundError\u001b[0m: No module named 'recipebook'"
     ]
    }
   ],
   "source": [
    "# Import recipebook data\n",
    "from recipebook.data import Data\n",
    "from recipebook.recipe import Recipe\n",
    "from recipebook.ingredient import Ingredient"
   ]
  },
  {
   "cell_type": "markdown",
   "id": "spare-incident",
   "metadata": {},
   "source": [
    "## Dataset global"
   ]
  },
  {
   "cell_type": "markdown",
   "id": "welsh-knitting",
   "metadata": {},
   "source": [
    "Reconstituer le dataset global sous forme d'un dictionnaire où les clés sont les noms des tables au singulier (ingredient, recipe, recipe_item) et les valeurs sont les dataframes associées à chacune de ces tables. "
   ]
  },
  {
   "cell_type": "code",
   "execution_count": null,
   "id": "sought-brisbane",
   "metadata": {
    "ExecuteTime": {
     "end_time": "2021-07-29T09:12:20.015015Z",
     "start_time": "2021-07-29T09:12:17.625Z"
    }
   },
   "outputs": [],
   "source": [
    "df = Data().get_data()\n",
    "df.head()"
   ]
  },
  {
   "cell_type": "markdown",
   "id": "legendary-wisdom",
   "metadata": {},
   "source": [
    "## Les ingredients"
   ]
  },
  {
   "cell_type": "code",
   "execution_count": null,
   "id": "western-declaration",
   "metadata": {
    "ExecuteTime": {
     "end_time": "2021-07-29T09:12:20.018009Z",
     "start_time": "2021-07-29T09:12:17.646Z"
    }
   },
   "outputs": [],
   "source": [
    "ingredients = df['ingredient']\n",
    "ingredients.head()"
   ]
  },
  {
   "cell_type": "markdown",
   "id": "caroline-italic",
   "metadata": {},
   "source": [
    "### Ingredient popularities"
   ]
  },
  {
   "cell_type": "markdown",
   "id": "established-airline",
   "metadata": {},
   "source": [
    "ingredient_popularities est un df avec toutes les séries du dataframe de ingredients auquel vient s'ajouter deux colonnes:\n",
    "\n",
    "- une colonne specifiant le nombre de fois d'un ingredient est apparu dans une recette\n",
    "- une colonne specifiant 1 si le nombre est > 1 et sinon 0"
   ]
  },
  {
   "cell_type": "code",
   "execution_count": null,
   "id": "challenging-thirty",
   "metadata": {
    "ExecuteTime": {
     "end_time": "2021-07-29T09:12:20.020011Z",
     "start_time": "2021-07-29T09:12:17.685Z"
    }
   },
   "outputs": [],
   "source": [
    "ingredient_popularities = Ingredient().get_with_popularities\n",
    "ingredient_popularities.head()"
   ]
  },
  {
   "cell_type": "markdown",
   "id": "completed-protein",
   "metadata": {},
   "source": [
    "## Les recipes"
   ]
  },
  {
   "cell_type": "code",
   "execution_count": null,
   "id": "happy-fellowship",
   "metadata": {
    "ExecuteTime": {
     "end_time": "2021-07-29T09:12:20.022007Z",
     "start_time": "2021-07-29T09:12:17.710Z"
    }
   },
   "outputs": [],
   "source": [
    "recipes = df['recipe']\n",
    "recipes.head()"
   ]
  },
  {
   "cell_type": "markdown",
   "id": "korean-resident",
   "metadata": {},
   "source": [
    "### Scored recipes"
   ]
  },
  {
   "cell_type": "markdown",
   "id": "welsh-sending",
   "metadata": {},
   "source": [
    "scored_recipes est un dataframe contenant deus séries:\n",
    "\n",
    "- le nom de la recipe\n",
    "- le score total associé à une recette \n",
    "\n",
    "Le score d'une recipe et la moyenne des scores des ingedients qui la compose"
   ]
  },
  {
   "cell_type": "code",
   "execution_count": null,
   "id": "selective-weekly",
   "metadata": {
    "ExecuteTime": {
     "end_time": "2021-07-29T09:12:20.025007Z",
     "start_time": "2021-07-29T09:12:17.750Z"
    }
   },
   "outputs": [],
   "source": [
    "scored_recipes = Recipe().get_scored_recipes\n",
    "scored_recipes.head()"
   ]
  }
 ],
 "metadata": {
  "kernelspec": {
   "display_name": "Python 3",
   "language": "python",
   "name": "python3"
  },
  "language_info": {
   "codemirror_mode": {
    "name": "ipython",
    "version": 3
   },
   "file_extension": ".py",
   "mimetype": "text/x-python",
   "name": "python",
   "nbconvert_exporter": "python",
   "pygments_lexer": "ipython3",
   "version": "3.8.10"
  },
  "latex_envs": {
   "LaTeX_envs_menu_present": true,
   "autoclose": false,
   "autocomplete": true,
   "bibliofile": "biblio.bib",
   "cite_by": "apalike",
   "current_citInitial": 1,
   "eqLabelWithNumbers": true,
   "eqNumInitial": 1,
   "hotkeys": {
    "equation": "Ctrl-E",
    "itemize": "Ctrl-I"
   },
   "labels_anchors": false,
   "latex_user_defs": false,
   "report_style_numbering": false,
   "user_envs_cfg": false
  },
  "toc": {
   "base_numbering": 1,
   "nav_menu": {},
   "number_sections": true,
   "sideBar": true,
   "skip_h1_title": false,
   "title_cell": "Table of Contents",
   "title_sidebar": "Contents",
   "toc_cell": false,
   "toc_position": {},
   "toc_section_display": true,
   "toc_window_display": false
  }
 },
 "nbformat": 4,
 "nbformat_minor": 5
}
