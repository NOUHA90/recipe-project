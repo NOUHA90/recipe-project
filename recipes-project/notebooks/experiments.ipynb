{
 "cells": [
  {
   "cell_type": "markdown",
   "source": [
    "# Recipe book"
   ],
   "metadata": {}
  },
  {
   "cell_type": "markdown",
   "source": [
    "## Content"
   ],
   "metadata": {}
  },
  {
   "cell_type": "markdown",
   "source": [
    "Voici le recipe book!"
   ],
   "metadata": {}
  },
  {
   "cell_type": "code",
   "execution_count": 1,
   "source": [
    "# Import usual modules\r\n",
    "import pandas as pd\r\n",
    "import numpy as np\r\n",
    "import seaborn as sns\r\n",
    "import matplotlib.pyplot as plt"
   ],
   "outputs": [],
   "metadata": {
    "ExecuteTime": {
     "end_time": "2021-07-29T12:20:03.971188Z",
     "start_time": "2021-07-29T12:19:59.678148Z"
    }
   }
  },
  {
   "cell_type": "code",
   "execution_count": 2,
   "source": [
    "# Import recipebook data\r\n",
    "from recipebook.data import Data\r\n",
    "from recipebook.recipe import Recipe\r\n",
    "from recipebook.ingredient import Ingredient"
   ],
   "outputs": [],
   "metadata": {
    "ExecuteTime": {
     "end_time": "2021-07-29T12:20:04.017034Z",
     "start_time": "2021-07-29T12:20:03.977080Z"
    }
   }
  },
  {
   "cell_type": "markdown",
   "source": [
    "## Dataset global"
   ],
   "metadata": {}
  },
  {
   "cell_type": "markdown",
   "source": [
    "Reconstituer le dataset global sous forme d'un dictionnaire où les clés sont les noms des tables au singulier (ingredient, recipe, recipe_item) et les valeurs sont les dataframes associées à chacune de ces tables. "
   ],
   "metadata": {}
  },
  {
   "cell_type": "code",
   "execution_count": 3,
   "source": [
    "df = Data('C:/Users/utilisateur/anaconda3/recipes-project/data/csv/').get_data()\r\n",
    "df.keys()"
   ],
   "outputs": [
    {
     "output_type": "execute_result",
     "data": {
      "text/plain": [
       "dict_keys(['ingredient', 'recipe', 'recipe_items'])"
      ]
     },
     "metadata": {},
     "execution_count": 3
    }
   ],
   "metadata": {
    "ExecuteTime": {
     "end_time": "2021-07-29T12:20:05.189433Z",
     "start_time": "2021-07-29T12:20:04.031025Z"
    }
   }
  },
  {
   "cell_type": "code",
   "execution_count": 4,
   "source": [
    "# df"
   ],
   "outputs": [],
   "metadata": {}
  },
  {
   "cell_type": "markdown",
   "source": [
    "## Les ingredients"
   ],
   "metadata": {}
  },
  {
   "cell_type": "code",
   "execution_count": 5,
   "source": [
    "ingredients = df['ingredient']\r\n",
    "ingredients"
   ],
   "outputs": [
    {
     "output_type": "execute_result",
     "data": {
      "text/plain": [
       "{'Id': 0      1\n",
       " 1      2\n",
       " 2      3\n",
       " 3      4\n",
       " 4      5\n",
       " 5      6\n",
       " 6      7\n",
       " 7      8\n",
       " 8      9\n",
       " 9     10\n",
       " 10    11\n",
       " 11    12\n",
       " 12    13\n",
       " 13    14\n",
       " 14    15\n",
       " Name: Id, dtype: int64,\n",
       " 'Nom': 0            Pattes\n",
       " 1              beuf\n",
       " 2            Tomate\n",
       " 3           Oignon \n",
       " 4        Champignon\n",
       " 5          béchamel\n",
       " 6           fromage\n",
       " 7              Lait\n",
       " 8         Courgette\n",
       " 9               riz\n",
       " 10           poulet\n",
       " 11          poivron\n",
       " 12     Haricot vert\n",
       " 13    Haricot blanc\n",
       " 14             Oeuf\n",
       " Name: Nom, dtype: object,\n",
       " 'Score': 0     1\n",
       " 1     2\n",
       " 2     3\n",
       " 3     4\n",
       " 4     5\n",
       " 5     1\n",
       " 6     2\n",
       " 7     3\n",
       " 8     4\n",
       " 9     5\n",
       " 10    1\n",
       " 11    2\n",
       " 12    3\n",
       " 13    4\n",
       " 14    5\n",
       " Name: Score, dtype: int64}"
      ]
     },
     "metadata": {},
     "execution_count": 5
    }
   ],
   "metadata": {
    "ExecuteTime": {
     "end_time": "2021-07-29T12:20:05.199401Z",
     "start_time": "2021-07-29T12:19:59.845Z"
    }
   }
  },
  {
   "cell_type": "code",
   "execution_count": 6,
   "source": [
    "do = Data('C:/Users/utilisateur/anaconda3/recipes-project/data/csv/')"
   ],
   "outputs": [],
   "metadata": {}
  },
  {
   "cell_type": "code",
   "execution_count": 7,
   "source": [
    "list_dframes = do.list_data()"
   ],
   "outputs": [],
   "metadata": {}
  },
  {
   "cell_type": "code",
   "execution_count": 8,
   "source": [
    "ingredient = do.get_ingredient(list_dframes)\r\n",
    "ingredient.head()"
   ],
   "outputs": [
    {
     "output_type": "execute_result",
     "data": {
      "text/plain": [
       "   Id         Nom  Score\n",
       "0   1      Pattes      1\n",
       "1   2        beuf      2\n",
       "2   3      Tomate      3\n",
       "3   4     Oignon       4\n",
       "4   5  Champignon      5"
      ],
      "text/html": [
       "<div>\n",
       "<style scoped>\n",
       "    .dataframe tbody tr th:only-of-type {\n",
       "        vertical-align: middle;\n",
       "    }\n",
       "\n",
       "    .dataframe tbody tr th {\n",
       "        vertical-align: top;\n",
       "    }\n",
       "\n",
       "    .dataframe thead th {\n",
       "        text-align: right;\n",
       "    }\n",
       "</style>\n",
       "<table border=\"1\" class=\"dataframe\">\n",
       "  <thead>\n",
       "    <tr style=\"text-align: right;\">\n",
       "      <th></th>\n",
       "      <th>Id</th>\n",
       "      <th>Nom</th>\n",
       "      <th>Score</th>\n",
       "    </tr>\n",
       "  </thead>\n",
       "  <tbody>\n",
       "    <tr>\n",
       "      <th>0</th>\n",
       "      <td>1</td>\n",
       "      <td>Pattes</td>\n",
       "      <td>1</td>\n",
       "    </tr>\n",
       "    <tr>\n",
       "      <th>1</th>\n",
       "      <td>2</td>\n",
       "      <td>beuf</td>\n",
       "      <td>2</td>\n",
       "    </tr>\n",
       "    <tr>\n",
       "      <th>2</th>\n",
       "      <td>3</td>\n",
       "      <td>Tomate</td>\n",
       "      <td>3</td>\n",
       "    </tr>\n",
       "    <tr>\n",
       "      <th>3</th>\n",
       "      <td>4</td>\n",
       "      <td>Oignon</td>\n",
       "      <td>4</td>\n",
       "    </tr>\n",
       "    <tr>\n",
       "      <th>4</th>\n",
       "      <td>5</td>\n",
       "      <td>Champignon</td>\n",
       "      <td>5</td>\n",
       "    </tr>\n",
       "  </tbody>\n",
       "</table>\n",
       "</div>"
      ]
     },
     "metadata": {},
     "execution_count": 8
    }
   ],
   "metadata": {}
  },
  {
   "cell_type": "code",
   "execution_count": 9,
   "source": [
    "recipe = do.get_recipe(list_dframes)\r\n",
    "recipe.head()"
   ],
   "outputs": [
    {
     "output_type": "execute_result",
     "data": {
      "text/plain": [
       "   Id  ingredient_id  recipe_id  Quantity     Unit\n",
       "0   1              1          1        10  Plaques\n",
       "1   2              2          1       600        g\n",
       "2   3              3          1       500        g\n",
       "3   4              4          1         3   Unités\n",
       "4   5              5          1       200        g"
      ],
      "text/html": [
       "<div>\n",
       "<style scoped>\n",
       "    .dataframe tbody tr th:only-of-type {\n",
       "        vertical-align: middle;\n",
       "    }\n",
       "\n",
       "    .dataframe tbody tr th {\n",
       "        vertical-align: top;\n",
       "    }\n",
       "\n",
       "    .dataframe thead th {\n",
       "        text-align: right;\n",
       "    }\n",
       "</style>\n",
       "<table border=\"1\" class=\"dataframe\">\n",
       "  <thead>\n",
       "    <tr style=\"text-align: right;\">\n",
       "      <th></th>\n",
       "      <th>Id</th>\n",
       "      <th>ingredient_id</th>\n",
       "      <th>recipe_id</th>\n",
       "      <th>Quantity</th>\n",
       "      <th>Unit</th>\n",
       "    </tr>\n",
       "  </thead>\n",
       "  <tbody>\n",
       "    <tr>\n",
       "      <th>0</th>\n",
       "      <td>1</td>\n",
       "      <td>1</td>\n",
       "      <td>1</td>\n",
       "      <td>10</td>\n",
       "      <td>Plaques</td>\n",
       "    </tr>\n",
       "    <tr>\n",
       "      <th>1</th>\n",
       "      <td>2</td>\n",
       "      <td>2</td>\n",
       "      <td>1</td>\n",
       "      <td>600</td>\n",
       "      <td>g</td>\n",
       "    </tr>\n",
       "    <tr>\n",
       "      <th>2</th>\n",
       "      <td>3</td>\n",
       "      <td>3</td>\n",
       "      <td>1</td>\n",
       "      <td>500</td>\n",
       "      <td>g</td>\n",
       "    </tr>\n",
       "    <tr>\n",
       "      <th>3</th>\n",
       "      <td>4</td>\n",
       "      <td>4</td>\n",
       "      <td>1</td>\n",
       "      <td>3</td>\n",
       "      <td>Unités</td>\n",
       "    </tr>\n",
       "    <tr>\n",
       "      <th>4</th>\n",
       "      <td>5</td>\n",
       "      <td>5</td>\n",
       "      <td>1</td>\n",
       "      <td>200</td>\n",
       "      <td>g</td>\n",
       "    </tr>\n",
       "  </tbody>\n",
       "</table>\n",
       "</div>"
      ]
     },
     "metadata": {},
     "execution_count": 9
    }
   ],
   "metadata": {}
  },
  {
   "cell_type": "code",
   "execution_count": 10,
   "source": [
    "recipe_items = do.get_recipe_items(list_dframes)\r\n",
    "recipe_items.head()"
   ],
   "outputs": [
    {
     "output_type": "execute_result",
     "data": {
      "text/plain": [
       "   Id                name cooking_time  Nbr de personne\n",
       "0   1            lasagnes           1h                4\n",
       "1   2  Flan de courgettes        45min                6\n",
       "2   3               Paela           1h                6"
      ],
      "text/html": [
       "<div>\n",
       "<style scoped>\n",
       "    .dataframe tbody tr th:only-of-type {\n",
       "        vertical-align: middle;\n",
       "    }\n",
       "\n",
       "    .dataframe tbody tr th {\n",
       "        vertical-align: top;\n",
       "    }\n",
       "\n",
       "    .dataframe thead th {\n",
       "        text-align: right;\n",
       "    }\n",
       "</style>\n",
       "<table border=\"1\" class=\"dataframe\">\n",
       "  <thead>\n",
       "    <tr style=\"text-align: right;\">\n",
       "      <th></th>\n",
       "      <th>Id</th>\n",
       "      <th>name</th>\n",
       "      <th>cooking_time</th>\n",
       "      <th>Nbr de personne</th>\n",
       "    </tr>\n",
       "  </thead>\n",
       "  <tbody>\n",
       "    <tr>\n",
       "      <th>0</th>\n",
       "      <td>1</td>\n",
       "      <td>lasagnes</td>\n",
       "      <td>1h</td>\n",
       "      <td>4</td>\n",
       "    </tr>\n",
       "    <tr>\n",
       "      <th>1</th>\n",
       "      <td>2</td>\n",
       "      <td>Flan de courgettes</td>\n",
       "      <td>45min</td>\n",
       "      <td>6</td>\n",
       "    </tr>\n",
       "    <tr>\n",
       "      <th>2</th>\n",
       "      <td>3</td>\n",
       "      <td>Paela</td>\n",
       "      <td>1h</td>\n",
       "      <td>6</td>\n",
       "    </tr>\n",
       "  </tbody>\n",
       "</table>\n",
       "</div>"
      ]
     },
     "metadata": {},
     "execution_count": 10
    }
   ],
   "metadata": {}
  },
  {
   "cell_type": "code",
   "execution_count": 11,
   "source": [
    "df2 = do.get_merge_ordered_data(recipe, ingredient, recipe_items)"
   ],
   "outputs": [],
   "metadata": {}
  },
  {
   "cell_type": "code",
   "execution_count": 12,
   "source": [
    "df2.head()"
   ],
   "outputs": [
    {
     "output_type": "execute_result",
     "data": {
      "text/plain": [
       "   Id  ingredient_id  recipe_id  Quantity     Unit     Nom  Score  \\\n",
       "0   1            1.0        1.0      10.0  Plaques  Pattes    1.0   \n",
       "1   2            1.0        1.0      10.0  Plaques    beuf    2.0   \n",
       "2   2            2.0        1.0     600.0        g    beuf    2.0   \n",
       "3   3            1.0        1.0      10.0  Plaques  Tomate    3.0   \n",
       "4   3            2.0        1.0     600.0        g  Tomate    3.0   \n",
       "\n",
       "                 name cooking_time  Nbr de personne  \n",
       "0            lasagnes           1h                4  \n",
       "1  Flan de courgettes        45min                6  \n",
       "2  Flan de courgettes        45min                6  \n",
       "3               Paela           1h                6  \n",
       "4               Paela           1h                6  "
      ],
      "text/html": [
       "<div>\n",
       "<style scoped>\n",
       "    .dataframe tbody tr th:only-of-type {\n",
       "        vertical-align: middle;\n",
       "    }\n",
       "\n",
       "    .dataframe tbody tr th {\n",
       "        vertical-align: top;\n",
       "    }\n",
       "\n",
       "    .dataframe thead th {\n",
       "        text-align: right;\n",
       "    }\n",
       "</style>\n",
       "<table border=\"1\" class=\"dataframe\">\n",
       "  <thead>\n",
       "    <tr style=\"text-align: right;\">\n",
       "      <th></th>\n",
       "      <th>Id</th>\n",
       "      <th>ingredient_id</th>\n",
       "      <th>recipe_id</th>\n",
       "      <th>Quantity</th>\n",
       "      <th>Unit</th>\n",
       "      <th>Nom</th>\n",
       "      <th>Score</th>\n",
       "      <th>name</th>\n",
       "      <th>cooking_time</th>\n",
       "      <th>Nbr de personne</th>\n",
       "    </tr>\n",
       "  </thead>\n",
       "  <tbody>\n",
       "    <tr>\n",
       "      <th>0</th>\n",
       "      <td>1</td>\n",
       "      <td>1.0</td>\n",
       "      <td>1.0</td>\n",
       "      <td>10.0</td>\n",
       "      <td>Plaques</td>\n",
       "      <td>Pattes</td>\n",
       "      <td>1.0</td>\n",
       "      <td>lasagnes</td>\n",
       "      <td>1h</td>\n",
       "      <td>4</td>\n",
       "    </tr>\n",
       "    <tr>\n",
       "      <th>1</th>\n",
       "      <td>2</td>\n",
       "      <td>1.0</td>\n",
       "      <td>1.0</td>\n",
       "      <td>10.0</td>\n",
       "      <td>Plaques</td>\n",
       "      <td>beuf</td>\n",
       "      <td>2.0</td>\n",
       "      <td>Flan de courgettes</td>\n",
       "      <td>45min</td>\n",
       "      <td>6</td>\n",
       "    </tr>\n",
       "    <tr>\n",
       "      <th>2</th>\n",
       "      <td>2</td>\n",
       "      <td>2.0</td>\n",
       "      <td>1.0</td>\n",
       "      <td>600.0</td>\n",
       "      <td>g</td>\n",
       "      <td>beuf</td>\n",
       "      <td>2.0</td>\n",
       "      <td>Flan de courgettes</td>\n",
       "      <td>45min</td>\n",
       "      <td>6</td>\n",
       "    </tr>\n",
       "    <tr>\n",
       "      <th>3</th>\n",
       "      <td>3</td>\n",
       "      <td>1.0</td>\n",
       "      <td>1.0</td>\n",
       "      <td>10.0</td>\n",
       "      <td>Plaques</td>\n",
       "      <td>Tomate</td>\n",
       "      <td>3.0</td>\n",
       "      <td>Paela</td>\n",
       "      <td>1h</td>\n",
       "      <td>6</td>\n",
       "    </tr>\n",
       "    <tr>\n",
       "      <th>4</th>\n",
       "      <td>3</td>\n",
       "      <td>2.0</td>\n",
       "      <td>1.0</td>\n",
       "      <td>600.0</td>\n",
       "      <td>g</td>\n",
       "      <td>Tomate</td>\n",
       "      <td>3.0</td>\n",
       "      <td>Paela</td>\n",
       "      <td>1h</td>\n",
       "      <td>6</td>\n",
       "    </tr>\n",
       "  </tbody>\n",
       "</table>\n",
       "</div>"
      ]
     },
     "metadata": {},
     "execution_count": 12
    }
   ],
   "metadata": {}
  },
  {
   "cell_type": "markdown",
   "source": [
    "### Ingredient popularities"
   ],
   "metadata": {}
  },
  {
   "cell_type": "markdown",
   "source": [
    "ingredient_popularities est un df avec toutes les séries du dataframe de ingredients auquel vient s'ajouter deux colonnes:\r\n",
    "\r\n",
    "- une colonne specifiant le nombre de fois d'un ingredient est apparu dans une recette\r\n",
    "- une colonne specifiant 1 si le nombre est > 1 et sinon 0"
   ],
   "metadata": {}
  },
  {
   "cell_type": "code",
   "execution_count": 13,
   "source": [
    "# ingredient_popularities = Ingredient().get_with_popularities\r\n",
    "# ingredient_popularities.head()"
   ],
   "outputs": [],
   "metadata": {
    "ExecuteTime": {
     "end_time": "2021-07-29T12:20:05.212393Z",
     "start_time": "2021-07-29T12:19:59.958Z"
    }
   }
  },
  {
   "cell_type": "code",
   "execution_count": 14,
   "source": [
    "ingredient_popularities = Ingredient(df2).get_with_popularities(df2,'name', 'Nom','ingredient_id')\r\n",
    "ingredient_popularities.head()"
   ],
   "outputs": [
    {
     "output_type": "execute_result",
     "data": {
      "text/plain": [
       "   Id  ingredient_id  recipe_id  Quantity     Unit     Nom  Score  \\\n",
       "0   1            1.0        1.0      10.0  Plaques  Pattes    1.0   \n",
       "1   2            1.0        1.0      10.0  Plaques    beuf    2.0   \n",
       "2   2            2.0        1.0     600.0        g    beuf    2.0   \n",
       "3   3            1.0        1.0      10.0  Plaques  Tomate    3.0   \n",
       "4   3            2.0        1.0     600.0        g  Tomate    3.0   \n",
       "\n",
       "                 name cooking_time  Nbr de personne  occurrence  apparition  \n",
       "0            lasagnes           1h                4         2.0         1.0  \n",
       "1  Flan de courgettes        45min                6         5.0         1.0  \n",
       "2  Flan de courgettes        45min                6         9.0         1.0  \n",
       "3               Paela           1h                6        12.0         1.0  \n",
       "4               Paela           1h                6        11.0         1.0  "
      ],
      "text/html": [
       "<div>\n",
       "<style scoped>\n",
       "    .dataframe tbody tr th:only-of-type {\n",
       "        vertical-align: middle;\n",
       "    }\n",
       "\n",
       "    .dataframe tbody tr th {\n",
       "        vertical-align: top;\n",
       "    }\n",
       "\n",
       "    .dataframe thead th {\n",
       "        text-align: right;\n",
       "    }\n",
       "</style>\n",
       "<table border=\"1\" class=\"dataframe\">\n",
       "  <thead>\n",
       "    <tr style=\"text-align: right;\">\n",
       "      <th></th>\n",
       "      <th>Id</th>\n",
       "      <th>ingredient_id</th>\n",
       "      <th>recipe_id</th>\n",
       "      <th>Quantity</th>\n",
       "      <th>Unit</th>\n",
       "      <th>Nom</th>\n",
       "      <th>Score</th>\n",
       "      <th>name</th>\n",
       "      <th>cooking_time</th>\n",
       "      <th>Nbr de personne</th>\n",
       "      <th>occurrence</th>\n",
       "      <th>apparition</th>\n",
       "    </tr>\n",
       "  </thead>\n",
       "  <tbody>\n",
       "    <tr>\n",
       "      <th>0</th>\n",
       "      <td>1</td>\n",
       "      <td>1.0</td>\n",
       "      <td>1.0</td>\n",
       "      <td>10.0</td>\n",
       "      <td>Plaques</td>\n",
       "      <td>Pattes</td>\n",
       "      <td>1.0</td>\n",
       "      <td>lasagnes</td>\n",
       "      <td>1h</td>\n",
       "      <td>4</td>\n",
       "      <td>2.0</td>\n",
       "      <td>1.0</td>\n",
       "    </tr>\n",
       "    <tr>\n",
       "      <th>1</th>\n",
       "      <td>2</td>\n",
       "      <td>1.0</td>\n",
       "      <td>1.0</td>\n",
       "      <td>10.0</td>\n",
       "      <td>Plaques</td>\n",
       "      <td>beuf</td>\n",
       "      <td>2.0</td>\n",
       "      <td>Flan de courgettes</td>\n",
       "      <td>45min</td>\n",
       "      <td>6</td>\n",
       "      <td>5.0</td>\n",
       "      <td>1.0</td>\n",
       "    </tr>\n",
       "    <tr>\n",
       "      <th>2</th>\n",
       "      <td>2</td>\n",
       "      <td>2.0</td>\n",
       "      <td>1.0</td>\n",
       "      <td>600.0</td>\n",
       "      <td>g</td>\n",
       "      <td>beuf</td>\n",
       "      <td>2.0</td>\n",
       "      <td>Flan de courgettes</td>\n",
       "      <td>45min</td>\n",
       "      <td>6</td>\n",
       "      <td>9.0</td>\n",
       "      <td>1.0</td>\n",
       "    </tr>\n",
       "    <tr>\n",
       "      <th>3</th>\n",
       "      <td>3</td>\n",
       "      <td>1.0</td>\n",
       "      <td>1.0</td>\n",
       "      <td>10.0</td>\n",
       "      <td>Plaques</td>\n",
       "      <td>Tomate</td>\n",
       "      <td>3.0</td>\n",
       "      <td>Paela</td>\n",
       "      <td>1h</td>\n",
       "      <td>6</td>\n",
       "      <td>12.0</td>\n",
       "      <td>1.0</td>\n",
       "    </tr>\n",
       "    <tr>\n",
       "      <th>4</th>\n",
       "      <td>3</td>\n",
       "      <td>2.0</td>\n",
       "      <td>1.0</td>\n",
       "      <td>600.0</td>\n",
       "      <td>g</td>\n",
       "      <td>Tomate</td>\n",
       "      <td>3.0</td>\n",
       "      <td>Paela</td>\n",
       "      <td>1h</td>\n",
       "      <td>6</td>\n",
       "      <td>11.0</td>\n",
       "      <td>1.0</td>\n",
       "    </tr>\n",
       "  </tbody>\n",
       "</table>\n",
       "</div>"
      ]
     },
     "metadata": {},
     "execution_count": 14
    }
   ],
   "metadata": {}
  },
  {
   "cell_type": "markdown",
   "source": [
    "## Les recipes"
   ],
   "metadata": {}
  },
  {
   "cell_type": "code",
   "execution_count": 15,
   "source": [
    "recipes = df['recipe']\r\n",
    "recipes"
   ],
   "outputs": [
    {
     "output_type": "execute_result",
     "data": {
      "text/plain": [
       "{'Id': 0    1\n",
       " 1    2\n",
       " 2    3\n",
       " Name: Id, dtype: int64,\n",
       " 'name': 0              lasagnes\n",
       " 1    Flan de courgettes\n",
       " 2                 Paela\n",
       " Name: name, dtype: object,\n",
       " 'cooking_time': 0       1h\n",
       " 1    45min\n",
       " 2       1h\n",
       " Name: cooking_time, dtype: object,\n",
       " 'Nbr de personne': 0    4\n",
       " 1    6\n",
       " 2    6\n",
       " Name: Nbr de personne, dtype: int64}"
      ]
     },
     "metadata": {},
     "execution_count": 15
    }
   ],
   "metadata": {
    "ExecuteTime": {
     "end_time": "2021-07-29T12:20:05.217390Z",
     "start_time": "2021-07-29T12:20:00.004Z"
    }
   }
  },
  {
   "cell_type": "markdown",
   "source": [
    "### Scored recipes"
   ],
   "metadata": {}
  },
  {
   "cell_type": "markdown",
   "source": [
    "scored_recipes est un dataframe contenant deus séries:\r\n",
    "\r\n",
    "- le nom de la recipe\r\n",
    "- le score total associé à une recette \r\n",
    "\r\n",
    "Le score d'une recipe et la moyenne des scores des ingedients qui la compose"
   ],
   "metadata": {}
  },
  {
   "cell_type": "code",
   "execution_count": 16,
   "source": [
    "# scored_recipes = Recipe().get_scored_recipes\r\n",
    "# scored_recipes.head()"
   ],
   "outputs": [],
   "metadata": {
    "ExecuteTime": {
     "end_time": "2021-07-29T12:20:05.225387Z",
     "start_time": "2021-07-29T12:20:00.144Z"
    }
   }
  },
  {
   "cell_type": "code",
   "execution_count": 17,
   "source": [
    "# Totale score recipes\r\n",
    "scored_recipes = Recipe(ingredient_popularities).get_scored_recipes()\r\n",
    "scored_recipes.head()"
   ],
   "outputs": [
    {
     "output_type": "execute_result",
     "data": {
      "text/plain": [
       "   recipe_id                name     Score\n",
       "0        1.0  Flan de courgettes  2.000000\n",
       "1        1.0               Paela  3.169014\n",
       "2        1.0            lasagnes  1.000000\n",
       "3        2.0  Flan de courgettes       NaN\n",
       "4        2.0               Paela  3.333333"
      ],
      "text/html": [
       "<div>\n",
       "<style scoped>\n",
       "    .dataframe tbody tr th:only-of-type {\n",
       "        vertical-align: middle;\n",
       "    }\n",
       "\n",
       "    .dataframe tbody tr th {\n",
       "        vertical-align: top;\n",
       "    }\n",
       "\n",
       "    .dataframe thead th {\n",
       "        text-align: right;\n",
       "    }\n",
       "</style>\n",
       "<table border=\"1\" class=\"dataframe\">\n",
       "  <thead>\n",
       "    <tr style=\"text-align: right;\">\n",
       "      <th></th>\n",
       "      <th>recipe_id</th>\n",
       "      <th>name</th>\n",
       "      <th>Score</th>\n",
       "    </tr>\n",
       "  </thead>\n",
       "  <tbody>\n",
       "    <tr>\n",
       "      <th>0</th>\n",
       "      <td>1.0</td>\n",
       "      <td>Flan de courgettes</td>\n",
       "      <td>2.000000</td>\n",
       "    </tr>\n",
       "    <tr>\n",
       "      <th>1</th>\n",
       "      <td>1.0</td>\n",
       "      <td>Paela</td>\n",
       "      <td>3.169014</td>\n",
       "    </tr>\n",
       "    <tr>\n",
       "      <th>2</th>\n",
       "      <td>1.0</td>\n",
       "      <td>lasagnes</td>\n",
       "      <td>1.000000</td>\n",
       "    </tr>\n",
       "    <tr>\n",
       "      <th>3</th>\n",
       "      <td>2.0</td>\n",
       "      <td>Flan de courgettes</td>\n",
       "      <td>NaN</td>\n",
       "    </tr>\n",
       "    <tr>\n",
       "      <th>4</th>\n",
       "      <td>2.0</td>\n",
       "      <td>Paela</td>\n",
       "      <td>3.333333</td>\n",
       "    </tr>\n",
       "  </tbody>\n",
       "</table>\n",
       "</div>"
      ]
     },
     "metadata": {},
     "execution_count": 17
    }
   ],
   "metadata": {}
  },
  {
   "cell_type": "code",
   "execution_count": null,
   "source": [
    "# moyenne score recipes\r\n",
    "scored_recipes = Recipe(ingredient_popularities).get_moy_scored_recipes()\r\n",
    "scored_recipes.head()"
   ],
   "outputs": [],
   "metadata": {}
  },
  {
   "cell_type": "code",
   "execution_count": null,
   "source": [],
   "outputs": [],
   "metadata": {}
  }
 ],
 "metadata": {
  "kernelspec": {
   "name": "python3",
   "display_name": "Python 3.8.10 64-bit ('base': conda)"
  },
  "language_info": {
   "codemirror_mode": {
    "name": "ipython",
    "version": 3
   },
   "file_extension": ".py",
   "mimetype": "text/x-python",
   "name": "python",
   "nbconvert_exporter": "python",
   "pygments_lexer": "ipython3",
   "version": "3.8.10"
  },
  "latex_envs": {
   "LaTeX_envs_menu_present": true,
   "autoclose": false,
   "autocomplete": true,
   "bibliofile": "biblio.bib",
   "cite_by": "apalike",
   "current_citInitial": 1,
   "eqLabelWithNumbers": true,
   "eqNumInitial": 1,
   "hotkeys": {
    "equation": "Ctrl-E",
    "itemize": "Ctrl-I"
   },
   "labels_anchors": false,
   "latex_user_defs": false,
   "report_style_numbering": false,
   "user_envs_cfg": false
  },
  "toc": {
   "base_numbering": 1,
   "nav_menu": {},
   "number_sections": true,
   "sideBar": true,
   "skip_h1_title": false,
   "title_cell": "Table of Contents",
   "title_sidebar": "Contents",
   "toc_cell": false,
   "toc_position": {},
   "toc_section_display": true,
   "toc_window_display": false
  },
  "interpreter": {
   "hash": "b57b0ba709768a7bbbc5b5f9f052a7cbe42e1ac711dd327dca942e98c95c92b1"
  }
 },
 "nbformat": 4,
 "nbformat_minor": 5
}